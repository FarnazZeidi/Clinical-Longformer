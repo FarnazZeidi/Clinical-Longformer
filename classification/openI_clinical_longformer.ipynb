{
 "cells": [
  {
   "cell_type": "code",
   "execution_count": 1,
   "id": "9d822a60",
   "metadata": {},
   "outputs": [],
   "source": [
    "import pandas as pd\n",
    "import numpy as np"
   ]
  },
  {
   "cell_type": "code",
   "execution_count": null,
   "id": "4fd105ac",
   "metadata": {},
   "outputs": [],
   "source": [
    "mimicPath = '/YOUR/MIMICCXR/PATH/mimic.csv'\n",
    "openIPath = '/YOUR/OPENI/PATH/openI.csv'\n",
    "\n",
    "mimic = pd.read_csv(mimicPath, index_col=0)\n",
    "openI = pd.read_csv(openIPath, index_col=0)"
   ]
  },
  {
   "cell_type": "code",
   "execution_count": 3,
   "id": "f222459f",
   "metadata": {},
   "outputs": [
    {
     "data": {
      "text/html": [
       "<div>\n",
       "<style scoped>\n",
       "    .dataframe tbody tr th:only-of-type {\n",
       "        vertical-align: middle;\n",
       "    }\n",
       "\n",
       "    .dataframe tbody tr th {\n",
       "        vertical-align: top;\n",
       "    }\n",
       "\n",
       "    .dataframe thead th {\n",
       "        text-align: right;\n",
       "    }\n",
       "</style>\n",
       "<table border=\"1\" class=\"dataframe\">\n",
       "  <thead>\n",
       "    <tr style=\"text-align: right;\">\n",
       "      <th></th>\n",
       "      <th>Cardiomegaly</th>\n",
       "      <th>Edema</th>\n",
       "      <th>Consolidation</th>\n",
       "      <th>Pneumonia</th>\n",
       "      <th>Atelectasis</th>\n",
       "      <th>Pneumothorax</th>\n",
       "      <th>Pleural Effusion</th>\n",
       "      <th>TXT</th>\n",
       "    </tr>\n",
       "  </thead>\n",
       "  <tbody>\n",
       "    <tr>\n",
       "      <th>42232</th>\n",
       "      <td>0.0</td>\n",
       "      <td>1.0</td>\n",
       "      <td>0.0</td>\n",
       "      <td>0.0</td>\n",
       "      <td>0.0</td>\n",
       "      <td>0.0</td>\n",
       "      <td>0.0</td>\n",
       "      <td>the lungs are well expanded. equivocal mild in...</td>\n",
       "    </tr>\n",
       "  </tbody>\n",
       "</table>\n",
       "</div>"
      ],
      "text/plain": [
       "       Cardiomegaly  Edema  Consolidation  Pneumonia  Atelectasis  \\\n",
       "42232           0.0    1.0            0.0        0.0          0.0   \n",
       "\n",
       "       Pneumothorax  Pleural Effusion  \\\n",
       "42232           0.0               0.0   \n",
       "\n",
       "                                                     TXT  \n",
       "42232  the lungs are well expanded. equivocal mild in...  "
      ]
     },
     "execution_count": 3,
     "metadata": {},
     "output_type": "execute_result"
    }
   ],
   "source": [
    "mimic.head(1)"
   ]
  },
  {
   "cell_type": "code",
   "execution_count": 4,
   "id": "16f573d9",
   "metadata": {},
   "outputs": [
    {
     "data": {
      "text/html": [
       "<div>\n",
       "<style scoped>\n",
       "    .dataframe tbody tr th:only-of-type {\n",
       "        vertical-align: middle;\n",
       "    }\n",
       "\n",
       "    .dataframe tbody tr th {\n",
       "        vertical-align: top;\n",
       "    }\n",
       "\n",
       "    .dataframe thead th {\n",
       "        text-align: right;\n",
       "    }\n",
       "</style>\n",
       "<table border=\"1\" class=\"dataframe\">\n",
       "  <thead>\n",
       "    <tr style=\"text-align: right;\">\n",
       "      <th></th>\n",
       "      <th>Cardiomegaly</th>\n",
       "      <th>Edema</th>\n",
       "      <th>Consolidation</th>\n",
       "      <th>Pneumonia</th>\n",
       "      <th>Atelectasis</th>\n",
       "      <th>Pneumothorax</th>\n",
       "      <th>Pleural Effusion</th>\n",
       "      <th>TXT</th>\n",
       "    </tr>\n",
       "  </thead>\n",
       "  <tbody>\n",
       "    <tr>\n",
       "      <th>222713</th>\n",
       "      <td>0.0</td>\n",
       "      <td>0.0</td>\n",
       "      <td>0.0</td>\n",
       "      <td>0.0</td>\n",
       "      <td>0.0</td>\n",
       "      <td>0.0</td>\n",
       "      <td>0.0</td>\n",
       "      <td>The cardiac silhouette and mediastinum size ar...</td>\n",
       "    </tr>\n",
       "  </tbody>\n",
       "</table>\n",
       "</div>"
      ],
      "text/plain": [
       "        Cardiomegaly  Edema  Consolidation  Pneumonia  Atelectasis  \\\n",
       "222713           0.0    0.0            0.0        0.0          0.0   \n",
       "\n",
       "        Pneumothorax  Pleural Effusion  \\\n",
       "222713           0.0               0.0   \n",
       "\n",
       "                                                      TXT  \n",
       "222713  The cardiac silhouette and mediastinum size ar...  "
      ]
     },
     "execution_count": 4,
     "metadata": {},
     "output_type": "execute_result"
    }
   ],
   "source": [
    "openI.head(1)"
   ]
  },
  {
   "cell_type": "code",
   "execution_count": 5,
   "id": "f3186f70",
   "metadata": {},
   "outputs": [],
   "source": [
    "cols = ['Cardiomegaly', 'Edema', 'Consolidation', 'Pneumonia', 'Atelectasis', 'Pneumothorax', 'Pleural Effusion']"
   ]
  },
  {
   "cell_type": "code",
   "execution_count": 6,
   "id": "3a0634f0",
   "metadata": {},
   "outputs": [],
   "source": [
    "from transformers import LongformerTokenizerFast\n",
    "ltokenizer = LongformerTokenizerFast.from_pretrained('yikuan8/Clinical-Longformer')"
   ]
  },
  {
   "cell_type": "code",
   "execution_count": 7,
   "id": "4e745979",
   "metadata": {},
   "outputs": [],
   "source": [
    "train_encodings = ltokenizer(mimic.TXT.tolist(), truncation=True, padding=True, max_length=1024)\n",
    "test_encodings = ltokenizer(openI.TXT.tolist(), truncation=True, padding=True,max_length=1024)"
   ]
  },
  {
   "cell_type": "code",
   "execution_count": 8,
   "id": "f1e6cf4c",
   "metadata": {},
   "outputs": [],
   "source": [
    "import torch\n",
    "\n",
    "class ReadDataset(torch.utils.data.Dataset):\n",
    "    def __init__(self, encodings, labels):\n",
    "        self.encodings = encodings\n",
    "        self.labels = labels\n",
    "\n",
    "    def __getitem__(self, idx):\n",
    "        item = {key: torch.tensor(val[idx]) for key, val in self.encodings.items()}\n",
    "        item['labels'] = torch.tensor(self.labels[idx])\n",
    "        return item\n",
    "\n",
    "    def __len__(self):\n",
    "        return len(self.labels)\n",
    "\n",
    "train_dataset = ReadDataset(train_encodings, mimic[cols].values)\n",
    "test_dataset = ReadDataset(test_encodings, openI[cols].values)"
   ]
  },
  {
   "cell_type": "code",
   "execution_count": 9,
   "id": "56d7892b",
   "metadata": {},
   "outputs": [],
   "source": [
    "from torch import nn\n",
    "from transformers import Trainer\n",
    "\n",
    "class MultilabelTrainer(Trainer):\n",
    "    def compute_loss(self, model, inputs, return_outputs=False):\n",
    "        labels = inputs.get(\"labels\")\n",
    "        outputs = model(**inputs)\n",
    "        logits = outputs.get('logits')\n",
    "        loss_fct = nn.BCEWithLogitsLoss()\n",
    "        loss = loss_fct(logits.view(-1, self.model.config.num_labels),\n",
    "                        labels.float().view(-1, self.model.config.num_labels))\n",
    "        return (loss, outputs) if return_outputs else loss"
   ]
  },
  {
   "cell_type": "code",
   "execution_count": 10,
   "id": "a4617080",
   "metadata": {},
   "outputs": [],
   "source": [
    "import numpy as np\n",
    "from sklearn.metrics import roc_auc_score\n",
    "def sigmoid(x):  \n",
    "    return np.exp(-np.logaddexp(0, -x))\n",
    "\n",
    "def compute_metrics(eval_preds):\n",
    "    logits, labels = eval_preds\n",
    "    res = {}\n",
    "    for i, d in enumerate(cols):\n",
    "        res[d] = roc_auc_score(labels[:,i], sigmoid(logits[:,i]))\n",
    "    return res"
   ]
  },
  {
   "cell_type": "code",
   "execution_count": null,
   "id": "fd6ccae3",
   "metadata": {},
   "outputs": [],
   "source": [
    "from transformers import Trainer, TrainingArguments, BertForSequenceClassification, LongformerForSequenceClassification\n",
    "\n",
    "training_args = TrainingArguments(\n",
    "    output_dir='/YOUR/OUTPUT/DIR/',          # output directory\n",
    "    num_train_epochs=10,              # total number of training epochs\n",
    "    per_device_train_batch_size=4,  # batch size per device during training\n",
    "    per_device_eval_batch_size=8,   # batch size for evaluation\n",
    "    evaluation_strategy='epoch',\n",
    "    learning_rate=2e-5,\n",
    "    fp16=True,\n",
    "    fp16_backend=\"amp\"    \n",
    ")\n",
    "\n",
    "model = LongformerForSequenceClassification.from_pretrained('yikuan8/Clinical-Longformer',num_labels = len(cols))\n",
    "\n",
    "trainer = MultilabelTrainer(\n",
    "    model=model,                         # the instantiated 🤗 Transformers model to be trained\n",
    "    args=training_args,                  # training arguments, defined above\n",
    "    train_dataset=train_dataset,         # training dataset\n",
    "    eval_dataset=test_dataset,\n",
    "    compute_metrics=compute_metrics,\n",
    ")\n",
    "\n",
    "trainer.train()"
   ]
  }
 ],
 "metadata": {
  "kernelspec": {
   "display_name": "bertenv",
   "language": "python",
   "name": "bertenv"
  },
  "language_info": {
   "codemirror_mode": {
    "name": "ipython",
    "version": 3
   },
   "file_extension": ".py",
   "mimetype": "text/x-python",
   "name": "python",
   "nbconvert_exporter": "python",
   "pygments_lexer": "ipython3",
   "version": "3.8.13"
  }
 },
 "nbformat": 4,
 "nbformat_minor": 5
}
